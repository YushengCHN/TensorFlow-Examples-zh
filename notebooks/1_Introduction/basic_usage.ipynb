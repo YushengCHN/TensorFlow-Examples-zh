{
 "cells": [
  {
   "cell_type": "markdown",
   "metadata": {
    "collapsed": true
   },
   "source": [
    "# 综述\n",
    "\n",
    "详见[TensorFlow中文社区](http://www.tensorfly.cn/tfdoc/get_started/basic_usage.html)\n",
    "注：这个社区的例子中的tf是基于python2.7的，仅用来演示基础例子\n",
    "\n",
    "在TensorFlow中，一个计算由两个步骤构成\n",
    "## 构造计算图(graph)\n",
    "计算图(graph)中，数据流tensor是图的边，数据流之间的计算operation是图的节点  \n",
    "TensorFlow Python 库有一个默认图 (default graph), op 构造器可以为其增加节点. 这个默认图对许多程序来说已经足够用了。  \n",
    "管理更多的图是高阶应用，可见[Graph类说明](http://www.tensorfly.cn/tfdoc/api_docs/python/framework.html)  \n",
    "\n",
    "## 执行会话(session)\n",
    "会话(session)就是一个计算，它是对图(graph)的一次运行。"
   ]
  },
  {
   "cell_type": "code",
   "execution_count": 3,
   "metadata": {},
   "outputs": [],
   "source": [
    "import tensorflow as tf"
   ]
  },
  {
   "cell_type": "markdown",
   "metadata": {},
   "source": [
    "# 构造两个常量\n",
    "直接在seesion里运行简单的计算"
   ]
  },
  {
   "cell_type": "code",
   "execution_count": 39,
   "metadata": {},
   "outputs": [
    {
     "name": "stdout",
     "output_type": "stream",
     "text": [
      "Addition with constants: 5\nAddition with constants: 5\n"
     ]
    }
   ],
   "source": [
    "# 常量初始化\n",
    "a = tf.constant(2)\n",
    "b = tf.constant(3)\n",
    "\n",
    "# 计算 \n",
    "sess = tf.Session()\n",
    "result = sess.run(a+b)\n",
    "print(\"Addition with constants: %i\" %result)\n",
    "sess.close()\n",
    "\n",
    "#Session  对象在使用完后需要关闭以释放资源. 除了显式调用 close 外, 也可以使用 \"with\" 代码块 来自动完成关闭动作.\n",
    "with tf.Session() as sess:    \n",
    "    print(\"Addition with constants: %i\" % sess.run(a+b))    "
   ]
  },
  {
   "cell_type": "markdown",
   "metadata": {},
   "source": [
    "# 向量计算\n",
    "[链接(]http://www.tensorfly.cn/tfdoc/get_started/basic_usage.html)\n",
    "- 构造一个向量乘法的图，product\n",
    "- 进行一个Session，计算该图"
   ]
  },
  {
   "cell_type": "code",
   "execution_count": 42,
   "metadata": {},
   "outputs": [
    {
     "name": "stdout",
     "output_type": "stream",
     "text": [
      "[array([[14.],\n       [22.]], dtype=float32)]\n"
     ]
    }
   ],
   "source": [
    "# 创建一个常量 op, 产生一个 1x2 矩阵. 这个 op 被作为一个节点\n",
    "# 加到默认图中.\n",
    "#\n",
    "# 构造器的返回值代表该常量 op 的返回值.\n",
    "from typing import Optional, List, Any, Union, Tuple\n",
    "\n",
    "#创建两个向量\n",
    "matrix1 = tf.constant([[3., 4.],[5.,6.]])\n",
    "matrix2 = tf.constant([[2.],[2.]])\n",
    "\n",
    "# 创建一个矩阵乘法 matmul op , 把 'matrix1' 和 'matrix2' 作为输入.\n",
    "\n",
    "# 返回值 'product' 代表矩阵乘法的结果.\n",
    "product = tf.matmul(matrix1, matrix2)\n",
    "\n",
    "#启动Session\n",
    "with tf.Session() as sess:\n",
    "  result = sess.run([product])\n",
    "  print(result)"
   ]
  },
  {
   "cell_type": "markdown",
   "metadata": {},
   "source": [
    "# Tensor\n",
    "TensorFlow 程序使用 tensor 数据结构来代表所有的数据，计算图中, 操作间传递的数据都是 tensor。  \n",
    "TensorFlow的tensor可以看作是一个n维的数组或列表。一个tensor包含一个静态类型rank，一个shape. 详见[Rank, Shape, 和 Type.](http://www.tensorfly.cn/tfdoc/resources/dims_types.html)  \n",
    "# 变量\n",
    "详见[变量](http://www.tensorfly.cn/tfdoc/how_tos/variables.html)章节"
   ]
  },
  {
   "cell_type": "code",
   "execution_count": 52,
   "metadata": {},
   "outputs": [
    {
     "name": "stdout",
     "output_type": "stream",
     "text": [
      "0\n1\n2\n3\n"
     ]
    }
   ],
   "source": [
    "# 创建一个变量, 初始化为标量 0.\n",
    "state = tf.Variable(0, name=\"counter\")\n",
    "\n",
    "# 创建一个 op, 其作用是使 state 增加 1\n",
    "one = tf.constant(1)\n",
    "new_value = tf.add(state, one)\n",
    "# tf.assigns用于更新变量，详见[链接](https://www.w3cschool.cn/tensorflow_python/tensorflow_python-b4x72chd.html)\n",
    "update = tf.assign(state, new_value)\n",
    "\n",
    "# 启动图后, 变量必须先经过`初始化` (init) op 初始化,\n",
    "# 首先必须增加一个\"初始化\" op到图中.\n",
    "init_op = tf.initialize_all_variables()\n",
    "\n",
    "# 启动图, 运行 op\n",
    "with tf.Session() as sess:\n",
    "  # 运行 'init' op\n",
    "  sess.run(init_op)\n",
    "  # 打印 'state' 的初始值\n",
    "  print(sess.run(state))\n",
    "  # 运行 op, 更新 'state', 并打印 'state'\n",
    "  for _ in range(3):\n",
    "    sess.run(update)\n",
    "    print(sess.run(state))"
   ]
  },
  {
   "cell_type": "markdown",
   "metadata": {},
   "source": [
    "# Fetch\n",
    "用于取回seesion执行过程中的tensor"
   ]
  },
  {
   "cell_type": "code",
   "execution_count": 60,
   "metadata": {},
   "outputs": [
    {
     "name": "stdout",
     "output_type": "stream",
     "text": [
      "[7.0, 21.0]\n"
     ]
    }
   ],
   "source": [
    "input1 = tf.constant(3.0)\n",
    "input2 = tf.constant(2.0)\n",
    "input3 = tf.constant(5.0)\n",
    "intermed = tf.add(input2, input3)\n",
    "mul = tf.multiply(input1, intermed)\n",
    "\n",
    "with tf.Session() as sess:\n",
    "  result = sess.run([intermed, mul])\n",
    "  print(result)"
   ]
  },
  {
   "cell_type": "markdown",
   "metadata": {},
   "source": [
    "# Feed\n",
    "用于临时输入一个变量\n",
    "feed使用一个tensor值临时替换一个操作的输出结果.feed只在调用它的方法内有效，方法结束，feed就会消失。  \n",
    "最常见的用例是将某些特殊的操作指定为 \"feed\" 操作, 标记的方法是使用 tf.placeholder() 为这些操作创建占位符. "
   ]
  },
  {
   "cell_type": "code",
   "execution_count": 80,
   "metadata": {},
   "outputs": [
    {
     "name": "stdout",
     "output_type": "stream",
     "text": [
      "[array([[16., 14.],\n       [24., 21.]], dtype=float32)]\n"
     ]
    }
   ],
   "source": [
    "input1 = tf.placeholder(tf.float32,shape=(2,1))\n",
    "input2 = tf.placeholder(tf.float32,shape=(1,2))\n",
    "output = tf.matmul(input1, input2)\n",
    "\n",
    "with tf.Session() as sess:\n",
    "  print(sess.run([output], feed_dict={input1:[[2.],[3,]], input2:[[8.,7.]]}))"
   ]
  },
  {
   "cell_type": "code",
   "execution_count": null,
   "metadata": {},
   "outputs": [],
   "source": []
  }
 ],
 "metadata": {
  "kernelspec": {
   "display_name": "Python 2",
   "language": "python",
   "name": "python2"
  },
  "language_info": {
   "codemirror_mode": {
    "name": "ipython",
    "version": 2
   },
   "file_extension": ".py",
   "mimetype": "text/x-python",
   "name": "python",
   "nbconvert_exporter": "python",
   "pygments_lexer": "ipython2",
   "version": "2.7.6"
  }
 },
 "nbformat": 4,
 "nbformat_minor": 0
}
